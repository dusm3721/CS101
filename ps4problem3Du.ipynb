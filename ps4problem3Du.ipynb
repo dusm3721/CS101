{
 "cells": [
  {
   "cell_type": "markdown",
   "metadata": {},
   "source": [
    "# Problem 3 Plug-in VS MLE"
   ]
  },
  {
   "cell_type": "code",
   "execution_count": 1,
   "metadata": {
    "collapsed": true
   },
   "outputs": [],
   "source": [
    "import numpy as np\n",
    "import pandas as pd\n",
    "import matplotlib.pyplot as plt"
   ]
  },
  {
   "cell_type": "markdown",
   "metadata": {},
   "source": [
    "### (b)\n",
    "\n",
    "$X_i \\sim \\mathcal{U}(\\alpha, \\beta), \\quad \\hat\\mu=\\bar X_n$\n",
    "\n",
    "$n = 10,\\ \\alpha=1, \\ \\beta=3$\n",
    "\n",
    "$\\text{Bias}(\\hat\\mu)=\\mathbb{E}[\\hat\\mu-\\mu]^2=0$\n",
    "\n",
    "\n",
    "$\\text{Var}(\\hat\\mu)=\\text{Var}(\\bar X_n) =\\frac{1}{n^2}\\sum_{i=1}^{n} \\text{Var}(X_i) = \\frac{(\\beta-\\alpha)^2}{12 n} = \\frac{1}{30} = 0.0333$\n",
    "\n",
    "Analytically:\n",
    "$\\text{MSE}(\\hat\\mu) = \\text{Bias}(\\hat\\mu) + \\text{Var}(\\hat\\mu) = 0.0333$\n",
    "\n",
    "From Monte Carlo simulation:\n",
    "$\\hat{\\text{MSE}}(\\hat\\mu) = \\frac{1}{m}\\sum_{j=1}^{m}(\\hat\\mu^{(j)}-\\mu)^2 = 0.0331$\n",
    "\n",
    "Two methods differ by 0.7%."
   ]
  },
  {
   "cell_type": "code",
   "execution_count": 20,
   "metadata": {},
   "outputs": [
    {
     "name": "stdout",
     "output_type": "stream",
     "text": [
      "MSE from MC is 0.0330622974128\n"
     ]
    }
   ],
   "source": [
    "n, m, alpha, beta = 10, 10000, 1, 3\n",
    "mu = (alpha+beta) / 2\n",
    "mu_hat_MC = []\n",
    "\n",
    "np.random.seed(42)\n",
    "for j in range(m):\n",
    "    mu_hat_MC.append(np.random.uniform(alpha,beta,n).mean())\n",
    "mu_hat_MC = np.array(mu_hat_MC)\n",
    "MSE_MC = np.average((mu_hat_MC - mu)**2)\n",
    "print(\"MSE from MC is\", MSE_MC)"
   ]
  }
 ],
 "metadata": {
  "kernelspec": {
   "display_name": "Python 3",
   "language": "python",
   "name": "python3"
  },
  "language_info": {
   "codemirror_mode": {
    "name": "ipython",
    "version": 3
   },
   "file_extension": ".py",
   "mimetype": "text/x-python",
   "name": "python",
   "nbconvert_exporter": "python",
   "pygments_lexer": "ipython3",
   "version": "3.6.2"
  }
 },
 "nbformat": 4,
 "nbformat_minor": 2
}
