{
 "cells": [
  {
   "cell_type": "markdown",
   "metadata": {},
   "source": [
    "# Problem 4 Application to Geology"
   ]
  },
  {
   "cell_type": "code",
   "execution_count": 1,
   "metadata": {
    "collapsed": true
   },
   "outputs": [],
   "source": [
    "import numpy as np\n",
    "import pandas as pd\n",
    "import matplotlib.pyplot as plt"
   ]
  },
  {
   "cell_type": "markdown",
   "metadata": {},
   "source": [
    "Let X and Y denote the PH levels of location A and B respectively. The null hypothesis and the alternative hypothesis are \n",
    "\n",
    "$H_0 : \\ \\mu_X - \\mu_Y = 0 \\quad \\text{vs} \\quad H_1 : \\ \\mu_X - \\mu_Y \\neq 0 $\n",
    "\n",
    "The test statistic is \n",
    "\n",
    "$W(X,Y) = \\left| \\frac{\\bar{X}_n-\\bar{Y}_n}{\\sqrt{\\frac{s_X^2}{n} + \\frac{s_Y^2}{n}}} \\right|$\n",
    "\n",
    "The p-value is given by \n",
    "\n",
    "$p(x,y) = \\mathbb{P} \\left(W(X,Y) > W(x,y)|H_0\\right),$\n",
    "\n",
    "where $x$ and $y$ are the observed values of $X$ and $Y$.\n",
    "\n",
    "From the given data, the correspondent p-value is $p \\simeq 0.02$, which means at the significance level $\\alpha=0.05$ we can reject the null hypothesis."
   ]
  },
  {
   "cell_type": "code",
   "execution_count": 22,
   "metadata": {},
   "outputs": [
    {
     "name": "stdout",
     "output_type": "stream",
     "text": [
      "The Wald statistic is 2.3156508093\n",
      "The p-value is 0.0205773422538\n"
     ]
    }
   ],
   "source": [
    "X = np.array([7.58,8.52,8.01,7.99,7.93,7.89,7.85,7.82,7.80])\n",
    "Y = np.array([7.85,7.73,8.53,7.40,7.35,7.30,7.27,7.27,7.23])\n",
    "n = len(X)\n",
    "\n",
    "W = np.abs((X.mean()-Y.mean())/np.sqrt(X.var(ddof=1)/n+Y.var(ddof=1)/n))\n",
    "print(\"The Wald statistic is\", W)\n",
    "\n",
    "from scipy.stats import norm\n",
    "p = 2*(1-norm.cdf(W)) \n",
    "print(\"The p-value is\", p)"
   ]
  },
  {
   "cell_type": "code",
   "execution_count": 29,
   "metadata": {},
   "outputs": [
    {
     "data": {
      "image/png": "[encoded data removed]",
      "text/plain": [
       "<matplotlib.figure.Figure at 0x1a125b7c50>"
      ]
     },
     "metadata": {},
     "output_type": "display_data"
    }
   ],
   "source": [
    "plt.hist(X, bins=3,normed=True,color='c', edgecolor='k', alpha=0.65,label=\"Location A\")\n",
    "plt.hist(Y, bins=3,normed=True,color='y', edgecolor='k', alpha=0.65,label=\"Location B\")\n",
    "plt.legend()\n",
    "plt.show()"
   ]
  }
 ],
 "metadata": {
  "kernelspec": {
   "display_name": "Python 3",
   "language": "python",
   "name": "python3"
  },
  "language_info": {
   "codemirror_mode": {
    "name": "ipython",
    "version": 3
   },
   "file_extension": ".py",
   "mimetype": "text/x-python",
   "name": "python",
   "nbconvert_exporter": "python",
   "pygments_lexer": "ipython3",
   "version": "3.6.2"
  }
 },
 "nbformat": 4,
 "nbformat_minor": 2
}
