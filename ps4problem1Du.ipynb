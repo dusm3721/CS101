{
 "cells": [
  {
   "cell_type": "markdown",
   "metadata": {},
   "source": [
    "# Problem 1 Bootstrap Method"
   ]
  },
  {
   "cell_type": "code",
   "execution_count": 148,
   "metadata": {
    "collapsed": true
   },
   "outputs": [],
   "source": [
    "import numpy as np\n",
    "import pandas as pd\n",
    "import matplotlib.pyplot as plt"
   ]
  },
  {
   "cell_type": "code",
   "execution_count": 2,
   "metadata": {},
   "outputs": [
    {
     "data": {
      "text/html": [
       "<div>\n",
       "<style>\n",
       "    .dataframe thead tr:only-child th {\n",
       "        text-align: right;\n",
       "    }\n",
       "\n",
       "    .dataframe thead th {\n",
       "        text-align: left;\n",
       "    }\n",
       "\n",
       "    .dataframe tbody tr th {\n",
       "        vertical-align: top;\n",
       "    }\n",
       "</style>\n",
       "<table border=\"1\" class=\"dataframe\">\n",
       "  <thead>\n",
       "    <tr style=\"text-align: right;\">\n",
       "      <th></th>\n",
       "      <th>latitude</th>\n",
       "      <th>longitude</th>\n",
       "      <th>depth</th>\n",
       "      <th>magnitude</th>\n",
       "      <th>number of reporting</th>\n",
       "    </tr>\n",
       "  </thead>\n",
       "  <tbody>\n",
       "    <tr>\n",
       "      <th>1</th>\n",
       "      <td>-20.42</td>\n",
       "      <td>181.62</td>\n",
       "      <td>562.0</td>\n",
       "      <td>4.8</td>\n",
       "      <td>41.0</td>\n",
       "    </tr>\n",
       "    <tr>\n",
       "      <th>2</th>\n",
       "      <td>-20.62</td>\n",
       "      <td>181.03</td>\n",
       "      <td>650.0</td>\n",
       "      <td>4.2</td>\n",
       "      <td>15.0</td>\n",
       "    </tr>\n",
       "    <tr>\n",
       "      <th>3</th>\n",
       "      <td>-26.00</td>\n",
       "      <td>184.10</td>\n",
       "      <td>42.0</td>\n",
       "      <td>5.4</td>\n",
       "      <td>43.0</td>\n",
       "    </tr>\n",
       "    <tr>\n",
       "      <th>4</th>\n",
       "      <td>-17.97</td>\n",
       "      <td>181.66</td>\n",
       "      <td>626.0</td>\n",
       "      <td>4.1</td>\n",
       "      <td>19.0</td>\n",
       "    </tr>\n",
       "    <tr>\n",
       "      <th>5</th>\n",
       "      <td>-20.42</td>\n",
       "      <td>181.96</td>\n",
       "      <td>649.0</td>\n",
       "      <td>4.0</td>\n",
       "      <td>11.0</td>\n",
       "    </tr>\n",
       "  </tbody>\n",
       "</table>\n",
       "</div>"
      ],
      "text/plain": [
       "   latitude  longitude  depth  magnitude  number of reporting\n",
       "1    -20.42     181.62  562.0        4.8                 41.0\n",
       "2    -20.62     181.03  650.0        4.2                 15.0\n",
       "3    -26.00     184.10   42.0        5.4                 43.0\n",
       "4    -17.97     181.66  626.0        4.1                 19.0\n",
       "5    -20.42     181.96  649.0        4.0                 11.0"
      ]
     },
     "execution_count": 2,
     "metadata": {},
     "output_type": "execute_result"
    }
   ],
   "source": [
    "raw_data = np.loadtxt(\"fiji.txt\")\n",
    "head = [\"latitude\", \"longitude\", \"depth\", \"magnitude\", \"number of reporting\"]\n",
    "data = pd.DataFrame(raw_data[:,1:], index=pd.Series(raw_data[:,0]).astype(\"int32\"), columns=head)\n",
    "data.head()"
   ]
  },
  {
   "cell_type": "markdown",
   "metadata": {},
   "source": [
    "### (a)"
   ]
  },
  {
   "cell_type": "code",
   "execution_count": 11,
   "metadata": {},
   "outputs": [
    {
     "data": {
      "image/png": "[encoded data removed]",
      "text/plain": [
       "<matplotlib.figure.Figure at 0x1083f1780>"
      ]
     },
     "metadata": {},
     "output_type": "display_data"
    }
   ],
   "source": [
    "X = np.array(data[\"magnitude\"])\n",
    "Y = np.array(data[\"number of reporting\"])\n",
    "\n",
    "plt.scatter(x=X, y=Y)\n",
    "plt.xlabel(\"magnituds\")\n",
    "plt.ylabel(\"numbers of stations\")\n",
    "plt.show()"
   ]
  },
  {
   "cell_type": "markdown",
   "metadata": {},
   "source": [
    "### (b)\n",
    "\n",
    "The plug-in estimate of the correlation coefficient between X and Y is given by\n",
    "\n",
    "$\\hat \\theta = r_{X,Y}=\\frac{S_{X,Y}}{S_X S_Y} = \\frac{\\sum_{i=1}^n (X_i - \\bar X)(Y_i - \\bar Y)}{\\sqrt{\\sum_{i=1}^n (X_i - \\bar X)^2}\\sqrt{\\sum_{i=1}^n (Y_i - \\bar Y)^2}} = 0.8512$"
   ]
  },
  {
   "cell_type": "code",
   "execution_count": 44,
   "metadata": {},
   "outputs": [
    {
     "name": "stdout",
     "output_type": "stream",
     "text": [
      "r(X,Y) = 0.851182422372\n"
     ]
    }
   ],
   "source": [
    "theta_hat = np.corrcoef(X,Y)[0,1]\n",
    "print(\"r(X,Y) =\", theta_hat)"
   ]
  },
  {
   "cell_type": "markdown",
   "metadata": {},
   "source": [
    "### (c)\n",
    "\n",
    "$\\hat{\\text{se}}_B[\\hat\\theta]= 0.0102$"
   ]
  },
  {
   "cell_type": "code",
   "execution_count": 127,
   "metadata": {
    "collapsed": true
   },
   "outputs": [],
   "source": [
    "B = 1000\n",
    "theta_hat_B = []\n",
    "for b in range(B):\n",
    "    data_B = data.sample(n=len(data), replace=True)\n",
    "    X_B, Y_B = data_B[\"magnitude\"], data_B[\"number of reporting\"]\n",
    "    theta_hat_B.append(np.corrcoef(X_B, Y_B)[0,1])\n",
    "theta_hat_B = np.array(theta_hat_B)    "
   ]
  },
  {
   "cell_type": "code",
   "execution_count": 128,
   "metadata": {},
   "outputs": [
    {
     "name": "stdout",
     "output_type": "stream",
     "text": [
      "The bootstrap standard error of theta is 0.0101591808056\n"
     ]
    }
   ],
   "source": [
    "se_theta_hat_B = theta_hat_B.std()\n",
    "print(\"The bootstrap standard error of theta is\", se_theta_hat_B)"
   ]
  },
  {
   "cell_type": "code",
   "execution_count": 135,
   "metadata": {},
   "outputs": [
    {
     "data": {
      "image/png": "[encoded data removed]",
      "text/plain": [
       "<matplotlib.figure.Figure at 0x107b25e48>"
      ]
     },
     "metadata": {},
     "output_type": "display_data"
    }
   ],
   "source": [
    "plt.hist(theta_hat_B, bins=14)\n",
    "plt.xlabel(\"$\\hat\\Theta^{(B)}$\")\n",
    "plt.text(0.838,178, \"$\\hat\\Theta=0.851$\")\n",
    "\n",
    "plt.axvline(theta_hat, color='k', linestyle='dashed', linewidth=1)\n",
    "plt.show()"
   ]
  },
  {
   "cell_type": "code",
   "execution_count": 97,
   "metadata": {},
   "outputs": [
    {
     "data": {
      "image/png": "[encoded data removed]",
      "text/plain": [
       "<matplotlib.figure.Figure at 0x1a12811f28>"
      ]
     },
     "metadata": {},
     "output_type": "display_data"
    }
   ],
   "source": [
    "QQ_X = np.sort((np.array(theta_hat_B) - np.array(theta_hat_B).mean()) / np.array(theta_hat_B).std())\n",
    "\n",
    "from scipy.stats import norm\n",
    "index = np.array([i for i in range(1,len(QQ_X)+1)])\n",
    "QQ_Y = sp.stats.norm.ppf(index/(len(QQ_X)+1))\n",
    "\n",
    "plt.plot([-4,4],[-4,4],c=\"grey\")\n",
    "plt.scatter(QQ_X,QQ_Y)\n",
    "plt.show()"
   ]
  },
  {
   "cell_type": "markdown",
   "metadata": {},
   "source": [
    "### (d)\n",
    "\n",
    "The normal 95%  CI = ( 0.8313 , 0.8711 )\n",
    "\n",
    "The pivotal 95% CI = ( 0.8332 , 0.8724 )"
   ]
  },
  {
   "cell_type": "code",
   "execution_count": 147,
   "metadata": {},
   "outputs": [
    {
     "name": "stdout",
     "output_type": "stream",
     "text": [
      "The normal 95% confidence interval is ( 0.831270427993 , 0.871094416751 )\n"
     ]
    }
   ],
   "source": [
    "A = theta_hat - 1.96 * se_theta_hat_B\n",
    "B = theta_hat + 1.96 * se_theta_hat_B\n",
    "\n",
    "print(\"The normal 95% confidence interval is (\", A,\",\",B,\")\")"
   ]
  },
  {
   "cell_type": "code",
   "execution_count": 145,
   "metadata": {},
   "outputs": [
    {
     "name": "stdout",
     "output_type": "stream",
     "text": [
      "The pivotal 95% confidence interval is ( 0.833211989987 , 0.872387991134 )\n"
     ]
    }
   ],
   "source": [
    "alpha = 0.05\n",
    "n = len(theta_hat_B)\n",
    "xi_tilde = np.sort(theta_hat_B - theta_hat)\n",
    "a = theta_hat - xi_tilde[int((1-alpha/2)*n)]\n",
    "b = theta_hat - xi_tilde[int(alpha/2*n)]\n",
    "\n",
    "print(\"The pivotal 95% confidence interval is (\", a,\",\",b,\")\")"
   ]
  }
 ],
 "metadata": {
  "kernelspec": {
   "display_name": "Python 3",
   "language": "python",
   "name": "python3"
  },
  "language_info": {
   "codemirror_mode": {
    "name": "ipython",
    "version": 3
   },
   "file_extension": ".py",
   "mimetype": "text/x-python",
   "name": "python",
   "nbconvert_exporter": "python",
   "pygments_lexer": "ipython3",
   "version": "3.6.2"
  }
 },
 "nbformat": 4,
 "nbformat_minor": 2
}
