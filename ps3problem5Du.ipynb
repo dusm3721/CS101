{
 "cells": [
  {
   "cell_type": "markdown",
   "metadata": {},
   "source": [
    "# Problem 5 Jacknife: Implementation"
   ]
  },
  {
   "cell_type": "code",
   "execution_count": 1,
   "metadata": {
    "collapsed": true
   },
   "outputs": [],
   "source": [
    "import numpy as np\n",
    "import pandas as pd\n",
    "import matplotlib.pyplot as plt"
   ]
  },
  {
   "cell_type": "markdown",
   "metadata": {},
   "source": [
    "### (b)\n",
    "$X_i \\sim N(\\mu, \\sigma^2),\\quad$ where $\\mu=5$, $\\sigma=1$\n",
    "\n",
    "$\\theta = e^\\mu = 148.413$\n",
    "\n",
    "$\\hat\\theta_n = e^{\\bar X_n} = 157.560$\n",
    "\n",
    "$\\text{bias}[\\hat\\theta_n] = e^{\\mu+\\frac{1}{2n}} - e^{\\mu} = 0.7439$\n",
    "\n",
    "$\\bar\\theta_n^J = \\frac{1}{n}\\sum_{i=1}^{n}\\hat\\theta\\_n^{(-i)} = 157.568$\n",
    "\n",
    "$\\hat{\\text{bias}}_J[\\hat\\theta_n] = (n-1)(\\bar\\theta_n^J  - \\hat\\theta_n ) = 0.8083$\n",
    "\n",
    "$\\frac{0.8083-0.7439}{0.7439} = 0.086$\n",
    "\n",
    "The actual bias and the Jacknife estimated bias differ only by $8.6\\%$."
   ]
  },
  {
   "cell_type": "code",
   "execution_count": 87,
   "metadata": {},
   "outputs": [
    {
     "name": "stdout",
     "output_type": "stream",
     "text": [
      "sample mean:  5.05980801553\n",
      "sample std:  1.00788224472\n"
     ]
    }
   ],
   "source": [
    "np.random.seed(0)\n",
    "n = 100\n",
    "mu = 5\n",
    "X = np.random.standard_normal(n) + mu\n",
    "\n",
    "print(\"sample mean: \", X.mean())\n",
    "print(\"sample std: \", X.std())"
   ]
  },
  {
   "cell_type": "code",
   "execution_count": 88,
   "metadata": {},
   "outputs": [
    {
     "name": "stdout",
     "output_type": "stream",
     "text": [
      "theta: 148.413159103\n",
      "thetaHat: 157.560264296\n",
      "bias: 0.743924055811\n"
     ]
    }
   ],
   "source": [
    "theta = np.exp(mu)\n",
    "thetaHat = np.exp(X.mean())\n",
    "bias = np.exp(mu+1/(2*n)) - np.exp(mu)\n",
    "print(\"theta:\", theta)\n",
    "print(\"thetaHat:\", thetaHat)\n",
    "print(\"bias:\", bias)"
   ]
  },
  {
   "cell_type": "code",
   "execution_count": 75,
   "metadata": {},
   "outputs": [
    {
     "name": "stdout",
     "output_type": "stream",
     "text": [
      "[[ 1  2  3 ..., 97 98 99]\n",
      " [ 0  2  3 ..., 97 98 99]\n",
      " [ 0  1  3 ..., 97 98 99]\n",
      " ..., \n",
      " [ 0  1  2 ..., 96 98 99]\n",
      " [ 0  1  2 ..., 96 97 99]\n",
      " [ 0  1  2 ..., 96 97 98]]\n"
     ]
    }
   ],
   "source": [
    "jack_idx = (np.arange(1, n) - np.tri(n, n-1, k=-1)).astype(\"int\")\n",
    "print(jack_idx)\n",
    "X_jack = X[jack_idx]"
   ]
  },
  {
   "cell_type": "code",
   "execution_count": 105,
   "metadata": {},
   "outputs": [
    {
     "name": "stdout",
     "output_type": "stream",
     "text": [
      "Mean of jacknife estimation: 157.568429521\n",
      "Jacknife estimate of bias: 0.80835720458\n"
     ]
    }
   ],
   "source": [
    "thetaBar_jack = np.exp(X_jack.mean(axis=1)).mean()\n",
    "biasHat_jack = (n-1) * (thetaBar_jack - thetaHat)\n",
    "print(\"Mean of jacknife estimation:\", thetaBar_jack)\n",
    "print(\"Jacknife estimate of bias:\", biasHat_jack)"
   ]
  },
  {
   "cell_type": "markdown",
   "metadata": {},
   "source": [
    "### (c)\n",
    "$r = 10000$\n",
    "\n",
    "$\\text{bias}_1 = \\frac{1}{r}\\sum_{j=1}^{r}\\hat\\theta_n^{(j)} - \\theta = 0.853$\n",
    "\n",
    "$\\text{bias}_2 = \\frac{1}{r}\\sum_{j=1}^{r}\\hat\\theta_n^{(j),J} - \\theta = 0.108$\n",
    "\n",
    "We can see that the first bias is approximately equal to the actual bias while the second bias is smaller than the first one.\n",
    "\n"
   ]
  },
  {
   "cell_type": "code",
   "execution_count": 164,
   "metadata": {
    "collapsed": true
   },
   "outputs": [],
   "source": [
    "np.random.seed(1)\n",
    "r = 10000\n",
    "thetaHat_r = np.array([])\n",
    "thetaHat_jack_r = np.array([])\n",
    "for j in range(r):\n",
    "    X = np.random.standard_normal(n) + mu\n",
    "    thetaHat = np.exp(X.mean())\n",
    "    X_jack = X[jack_idx]\n",
    "    thetaBar_jack = np.exp(X_jack.mean(axis=1)).mean()\n",
    "    thetaHat_jack = n * thetaHat - (n-1) * thetaBar_jack\n",
    "    \n",
    "    thetaHat_r = np.append(thetaHat_r, thetaHat)\n",
    "    thetaHat_jack_r = np.append(thetaHat_jack_r, thetaHat_jack)"
   ]
  },
  {
   "cell_type": "code",
   "execution_count": 165,
   "metadata": {},
   "outputs": [
    {
     "name": "stdout",
     "output_type": "stream",
     "text": [
      "bias1: 0.853581418813\n",
      "bias2: 0.108014936416\n"
     ]
    }
   ],
   "source": [
    "print(\"bias1:\", thetaHat_r.mean()-theta)\n",
    "print(\"bias2:\", thetaHat_jack_r.mean()-theta)"
   ]
  }
 ],
 "metadata": {
  "kernelspec": {
   "display_name": "Python 3",
   "language": "python",
   "name": "python3"
  },
  "language_info": {
   "codemirror_mode": {
    "name": "ipython",
    "version": 3
   },
   "file_extension": ".py",
   "mimetype": "text/x-python",
   "name": "python",
   "nbconvert_exporter": "python",
   "pygments_lexer": "ipython3",
   "version": "3.6.2"
  }
 },
 "nbformat": 4,
 "nbformat_minor": 2
}
