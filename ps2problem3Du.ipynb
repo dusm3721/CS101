{
 "cells": [
  {
   "cell_type": "markdown",
   "metadata": {},
   "source": [
    "# Problem 3 The Bootstrap Method"
   ]
  },
  {
   "cell_type": "code",
   "execution_count": 287,
   "metadata": {
    "collapsed": true
   },
   "outputs": [],
   "source": [
    "import numpy as np\n",
    "import pandas as pd\n",
    "import matplotlib.pyplot as plt"
   ]
  },
  {
   "cell_type": "code",
   "execution_count": 288,
   "metadata": {},
   "outputs": [
    {
     "data": {
      "text/html": [
       "<div>\n",
       "<style>\n",
       "    .dataframe thead tr:only-child th {\n",
       "        text-align: right;\n",
       "    }\n",
       "\n",
       "    .dataframe thead th {\n",
       "        text-align: left;\n",
       "    }\n",
       "\n",
       "    .dataframe tbody tr th {\n",
       "        vertical-align: top;\n",
       "    }\n",
       "</style>\n",
       "<table border=\"1\" class=\"dataframe\">\n",
       "  <thead>\n",
       "    <tr style=\"text-align: right;\">\n",
       "      <th></th>\n",
       "      <th>birth weight</th>\n",
       "      <th>pregnancy lenght</th>\n",
       "      <th>first born</th>\n",
       "      <th>mother's age</th>\n",
       "      <th>mother's height</th>\n",
       "      <th>mother's prepregnancy weight</th>\n",
       "      <th>smoking status</th>\n",
       "    </tr>\n",
       "  </thead>\n",
       "  <tbody>\n",
       "    <tr>\n",
       "      <th>0</th>\n",
       "      <td>120.0</td>\n",
       "      <td>284.0</td>\n",
       "      <td>0.0</td>\n",
       "      <td>27.0</td>\n",
       "      <td>62.0</td>\n",
       "      <td>100.0</td>\n",
       "      <td>0.0</td>\n",
       "    </tr>\n",
       "    <tr>\n",
       "      <th>1</th>\n",
       "      <td>113.0</td>\n",
       "      <td>282.0</td>\n",
       "      <td>0.0</td>\n",
       "      <td>33.0</td>\n",
       "      <td>64.0</td>\n",
       "      <td>135.0</td>\n",
       "      <td>0.0</td>\n",
       "    </tr>\n",
       "    <tr>\n",
       "      <th>2</th>\n",
       "      <td>128.0</td>\n",
       "      <td>279.0</td>\n",
       "      <td>0.0</td>\n",
       "      <td>28.0</td>\n",
       "      <td>64.0</td>\n",
       "      <td>115.0</td>\n",
       "      <td>1.0</td>\n",
       "    </tr>\n",
       "    <tr>\n",
       "      <th>3</th>\n",
       "      <td>123.0</td>\n",
       "      <td>999.0</td>\n",
       "      <td>0.0</td>\n",
       "      <td>36.0</td>\n",
       "      <td>69.0</td>\n",
       "      <td>190.0</td>\n",
       "      <td>0.0</td>\n",
       "    </tr>\n",
       "    <tr>\n",
       "      <th>4</th>\n",
       "      <td>108.0</td>\n",
       "      <td>282.0</td>\n",
       "      <td>0.0</td>\n",
       "      <td>23.0</td>\n",
       "      <td>67.0</td>\n",
       "      <td>125.0</td>\n",
       "      <td>1.0</td>\n",
       "    </tr>\n",
       "  </tbody>\n",
       "</table>\n",
       "</div>"
      ],
      "text/plain": [
       "   birth weight  pregnancy lenght  first born  mother's age  mother's height  \\\n",
       "0         120.0             284.0         0.0          27.0             62.0   \n",
       "1         113.0             282.0         0.0          33.0             64.0   \n",
       "2         128.0             279.0         0.0          28.0             64.0   \n",
       "3         123.0             999.0         0.0          36.0             69.0   \n",
       "4         108.0             282.0         0.0          23.0             67.0   \n",
       "\n",
       "   mother's prepregnancy weight  smoking status  \n",
       "0                         100.0             0.0  \n",
       "1                         135.0             0.0  \n",
       "2                         115.0             1.0  \n",
       "3                         190.0             0.0  \n",
       "4                         125.0             1.0  "
      ]
     },
     "execution_count": 288,
     "metadata": {},
     "output_type": "execute_result"
    }
   ],
   "source": [
    "head=[\"birth weight\", \"pregnancy lenght\", \"first born\", \"mother's age\", \"mother's height\", \"mother's prepregnancy weight\", \"smoking status\"]\n",
    "data = pd.DataFrame(np.loadtxt(\"birth.txt\"), columns=head )\n",
    "data.head()"
   ]
  },
  {
   "cell_type": "markdown",
   "metadata": {},
   "source": [
    "### (a)\n",
    "The population size $N=1236$\n",
    "\n",
    "The population mean $\\mu$ and population variance $\\sigma$ are\n",
    "\n",
    "$\\mu = \\frac{1}{N}\\sum_{i=1}^{N}x_i = 3.390$\n",
    "\n",
    "$\\sigma^2 = \\frac{1}{N} \\sum_{i=1}^{N} (x_i-\\mu)^2 = 0.267$\n",
    "\n",
    "The sample mean and sample variance of an $n=40$ sample set is\n",
    "\n",
    "$\\bar X_n = \\frac{1}{n}\\sum_{i=1}^{n}X_i = 3.293$\n",
    "\n",
    "$s^2 = \\frac{1}{n-1} \\sum_{i=1}^{n} (X_i-\\bar X_n)^2 = 0.353$\n",
    "\n",
    "The exact standard error of $\\bar X_n$ is given by\n",
    "\n",
    "$ s[\\bar X_n] = \\sqrt{\\frac{\\sigma^2}{n}\\left(1-\\frac{n-1}{N-1}\\right)} = 0.0804$"
   ]
  },
  {
   "cell_type": "code",
   "execution_count": 289,
   "metadata": {},
   "outputs": [
    {
     "name": "stdout",
     "output_type": "stream",
     "text": [
      "population size: 1236\n",
      "population mean: 3.38994421642\n",
      "population variance: 0.267066849709\n",
      "exact standard error: 0.0804103786395\n"
     ]
    }
   ],
   "source": [
    "bwt_population = np.array(data[\"birth weight\"] * 0.0283495)\n",
    "\n",
    "N = len(bwt_population)\n",
    "n = 40\n",
    "mu = bwt_population.mean()\n",
    "sigma = bwt_population.std()\n",
    "s_Xbar = np.sqrt(sigma**2/n * (1-(n-1)/(N-1)))\n",
    "\n",
    "print(\"population size:\", N)\n",
    "print(\"population mean:\", mu)\n",
    "print(\"population variance:\", sigma**2)\n",
    "print(\"exact standard error:\", s_Xbar)"
   ]
  },
  {
   "cell_type": "code",
   "execution_count": 290,
   "metadata": {},
   "outputs": [
    {
     "name": "stdout",
     "output_type": "stream",
     "text": [
      "sample mean: 3.2935031625\n",
      "sample variance: 0.353497144159\n"
     ]
    }
   ],
   "source": [
    "np.random.seed(42)\n",
    "bwt_sample = np.random.choice(bwt_population, size=n, replace=False)\n",
    "X_bar = bwt_sample.mean()\n",
    "print(\"sample mean:\", X_bar)\n",
    "print(\"sample variance:\", bwt_sample.var(ddof=1))"
   ]
  },
  {
   "cell_type": "markdown",
   "metadata": {},
   "source": [
    "### (b)\n",
    "The standard error of $\\bar X_n$ estimated from the bootstrap method is\n",
    "\n",
    "$\\hat{\\text{se}}_B[\\bar X_n] = \\sqrt{\\frac{1}{B}\\sum_{b=1}^{B}{\\left(\\bar X_n^{(b)}-\\frac{1}{B}\\sum_{b=1}^{B}{\\bar X_n^{(b)}}\\right)^2}} =0.0956$"
   ]
  },
  {
   "cell_type": "code",
   "execution_count": 291,
   "metadata": {
    "collapsed": true
   },
   "outputs": [],
   "source": [
    "B = 1000\n",
    "bwt_population_boot = bwt_sample\n",
    "for i in range(int(N/n)):\n",
    "    bwt_population_boot = np.append(bwt_population_boot, bwt_sample)"
   ]
  },
  {
   "cell_type": "code",
   "execution_count": 292,
   "metadata": {
    "collapsed": true,
    "scrolled": true
   },
   "outputs": [],
   "source": [
    "np.random.seed(42)\n",
    "X_bar_boot = np.array([])\n",
    "for b in range(B):\n",
    "    bwt_sample_boot = np.random.choice(bwt_population_boot, size=n, replace=False)\n",
    "    X_bar_boot = np.append(X_bar_boot, bwt_sample_boot.mean())"
   ]
  },
  {
   "cell_type": "code",
   "execution_count": 293,
   "metadata": {},
   "outputs": [
    {
     "name": "stdout",
     "output_type": "stream",
     "text": [
      "bootstrap standard error: 0.095564477662\n"
     ]
    }
   ],
   "source": [
    "print(\"bootstrap standard error:\",X_bar_boot.std())"
   ]
  },
  {
   "cell_type": "markdown",
   "metadata": {},
   "source": [
    "### (c)\n",
    "$N = k\\times n +r$, \n",
    "\n",
    "for N=1236 and n=40, k=30 and r=36\n",
    "\n",
    "The standard error of $\\bar X_n$ estimated from the alternative bootstrap method is\n",
    "\n",
    "$\\hat{\\text{se}}_{BF}[\\bar X_n] = \\sqrt{\\frac{1}{B}\\sum_{b'=1}^{B}{\\left(\\bar X_n^{(b')}-\\frac{1}{B}\\sum_{b'=1}^{B}{\\bar X_n^{(b')}}\\right)^2}} =0.0876$\n"
   ]
  },
  {
   "cell_type": "code",
   "execution_count": 294,
   "metadata": {
    "collapsed": true
   },
   "outputs": [],
   "source": [
    "B = 1000\n",
    "k = 30\n",
    "r = 36\n",
    "bwt_population_altboot1 = bwt_sample\n",
    "for i in range(k-1):\n",
    "    bwt_population_altboot1 = np.append(bwt_population_altboot1, bwt_sample)\n",
    "bwt_population_altboot2 = np.append(bwt_population_altboot1, bwt_sample)"
   ]
  },
  {
   "cell_type": "code",
   "execution_count": 295,
   "metadata": {
    "collapsed": true
   },
   "outputs": [],
   "source": [
    "np.random.seed(42)\n",
    "X_bar_altboot = np.array([])\n",
    "p = (1 - r/n) * (1 - n/(N-1))\n",
    "U = np.random.uniform(size=B)\n",
    "for b in range(B):\n",
    "    if U[b] < p:\n",
    "        bwt_sample_altboot = np.random.choice(bwt_population_altboot1, size=n, replace=False)\n",
    "    else:\n",
    "        bwt_sample_altboot = np.random.choice(bwt_population_altboot2, size=n, replace=False)\n",
    "    X_bar_altboot = np.append(X_bar_altboot, bwt_sample_altboot.mean())"
   ]
  },
  {
   "cell_type": "code",
   "execution_count": 296,
   "metadata": {},
   "outputs": [
    {
     "name": "stdout",
     "output_type": "stream",
     "text": [
      "alternative bootstrap standard error: 0.0875660767342\n"
     ]
    }
   ],
   "source": [
    "print(\"alternative bootstrap standard error:\", X_bar_altboot.std())"
   ]
  },
  {
   "cell_type": "markdown",
   "metadata": {},
   "source": [
    "### (d)\n",
    "\n",
    "From the boxplot, both of the estimated standard errors are larger than the exact one. Perhaps this is due to the large sample variance compared to the population variance $(s^2=0.35 \\text{ v.s. } \\sigma^2=0.27)$ of our $n=40$ sample set."
   ]
  },
  {
   "cell_type": "code",
   "execution_count": 297,
   "metadata": {
    "collapsed": true
   },
   "outputs": [],
   "source": [
    "np.random.seed(42)\n",
    "\n",
    "se_B = np.array([])\n",
    "for iteration in range(100):\n",
    "    bwt_population_boot = bwt_sample\n",
    "    for i in range(int(N/n)):\n",
    "        bwt_population_boot = np.append(bwt_population_boot, bwt_sample)\n",
    "    X_bar_boot = np.array([])\n",
    "    for b in range(B):\n",
    "        bwt_sample_boot = np.random.choice(bwt_population_boot, size=n, replace=False)\n",
    "        X_bar_boot = np.append(X_bar_boot, bwt_sample_boot.mean())\n",
    "    se_B = np.append(se_B, X_bar_boot.std())"
   ]
  },
  {
   "cell_type": "code",
   "execution_count": 298,
   "metadata": {
    "collapsed": true
   },
   "outputs": [],
   "source": [
    "np.random.seed(42)\n",
    "\n",
    "se_BF = np.array([])\n",
    "for iteration in range(100):\n",
    "    bwt_population_altboot1 = bwt_sample\n",
    "    for i in range(k-1):\n",
    "        bwt_population_altboot1 = np.append(bwt_population_altboot1, bwt_sample)\n",
    "    bwt_population_altboot2 = np.append(bwt_population_altboot1, bwt_sample)\n",
    "    X_bar_altboot = np.array([])\n",
    "    U = np.random.uniform(size=B)\n",
    "    for b in range(B):\n",
    "        if U[b] < p:\n",
    "            bwt_sample_altboot = np.random.choice(bwt_population_altboot1, size=n, replace=False)\n",
    "        else:\n",
    "            bwt_sample_altboot = np.random.choice(bwt_population_altboot2, size=n, replace=False)\n",
    "        X_bar_altboot = np.append(X_bar_altboot, bwt_sample_altboot.mean())\n",
    "    se_BF = np.append(se_BF, X_bar_altboot.std())"
   ]
  },
  {
   "cell_type": "code",
   "execution_count": 299,
   "metadata": {
    "scrolled": true
   },
   "outputs": [
    {
     "data": {
      "image/png": "[encoded data removed]",
      "text/plain": [
       "<matplotlib.figure.Figure at 0x108c71908>"
      ]
     },
     "metadata": {},
     "output_type": "display_data"
    }
   ],
   "source": [
    "plt.boxplot([se_B, se_BF],)\n",
    "plt.plot([-4,4],[0.0804, 0.0804],c=\"grey\")\n",
    "plt.ylim(ymin=0.07, ymax=0.11)\n",
    "plt.show()"
   ]
  },
  {
   "cell_type": "markdown",
   "metadata": {},
   "source": [
    "Left: standard error estimated from the oringinal bootstrap method,   \n",
    "\n",
    "Right: standard error estimated from the alternative bootstrap method,   \n",
    "\n",
    "Grey line: exact standard error."
   ]
  }
 ],
 "metadata": {
  "kernelspec": {
   "display_name": "Python 3",
   "language": "python",
   "name": "python3"
  },
  "language_info": {
   "codemirror_mode": {
    "name": "ipython",
    "version": 3
   },
   "file_extension": ".py",
   "mimetype": "text/x-python",
   "name": "python",
   "nbconvert_exporter": "python",
   "pygments_lexer": "ipython3",
   "version": "3.6.2"
  }
 },
 "nbformat": 4,
 "nbformat_minor": 2
}
