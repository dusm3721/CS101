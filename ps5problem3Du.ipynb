{
 "cells": [
  {
   "cell_type": "markdown",
   "metadata": {},
   "source": [
    "# Problem 3 Wald Meets Poisson"
   ]
  },
  {
   "cell_type": "code",
   "execution_count": 1,
   "metadata": {
    "collapsed": true
   },
   "outputs": [],
   "source": [
    "import numpy as np\n",
    "import pandas as pd\n",
    "import matplotlib.pyplot as plt"
   ]
  },
  {
   "cell_type": "markdown",
   "metadata": {},
   "source": [
    "### (b)\n",
    "The size $\\alpha$ Wald test rejects $H_0$ when\n",
    "\n",
    "$\\left| \\frac{\\bar{X}_n - \\lambda_0}{\\sqrt{\\lambda_{0}/n}} \\right| > z_{1-\\frac{\\alpha}{2}}$\n",
    "\n",
    "For $\\lambda_0 = 1$, $n=20$ and $\\alpha=0.05$, the reject rule becomes\n",
    "\n",
    "$\\left| \\frac{\\bar{X}_{20} - 1}{\\sqrt{1/20}} \\right| > 1.96 \\quad \\Rightarrow\\quad \\left| \\bar{X}_{20} - 1 \\right| > 0.4383$\n",
    "\n",
    "From our experiment, the estimated type I error rate is $5.26\\%$."
   ]
  },
  {
   "cell_type": "code",
   "execution_count": 13,
   "metadata": {},
   "outputs": [
    {
     "name": "stdout",
     "output_type": "stream",
     "text": [
      "type I error rate is 0.0526\n"
     ]
    }
   ],
   "source": [
    "lambda0 = 1\n",
    "n = 20\n",
    "m = 10000\n",
    "type1 = 0\n",
    "\n",
    "np.random.seed(42)\n",
    "for i in range(m):\n",
    "    X = np.random.poisson(1, 20)\n",
    "    if np.abs((X.mean()-1)/np.sqrt(1/20)) > 1.96:\n",
    "        type1 += 1\n",
    "    \n",
    "print(\"type I error rate is\", type1 / m)    "
   ]
  }
 ],
 "metadata": {
  "kernelspec": {
   "display_name": "Python 3",
   "language": "python",
   "name": "python3"
  },
  "language_info": {
   "codemirror_mode": {
    "name": "ipython",
    "version": 3
   },
   "file_extension": ".py",
   "mimetype": "text/x-python",
   "name": "python",
   "nbconvert_exporter": "python",
   "pygments_lexer": "ipython3",
   "version": "3.6.2"
  }
 },
 "nbformat": 4,
 "nbformat_minor": 2
}
