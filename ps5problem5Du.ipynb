{
 "cells": [
  {
   "cell_type": "markdown",
   "metadata": {},
   "source": [
    "# Problem 5 Application to Linguistics"
   ]
  },
  {
   "cell_type": "code",
   "execution_count": 1,
   "metadata": {
    "collapsed": true
   },
   "outputs": [],
   "source": [
    "import numpy as np\n",
    "import pandas as pd\n",
    "import matplotlib.pyplot as plt"
   ]
  },
  {
   "cell_type": "markdown",
   "metadata": {},
   "source": [
    "### (a)\n",
    "\n",
    "Let X and Y denote the frequencies in Twain and Snodgrass essays respectively. The null hypothesis and the alternative hypothesis are \n",
    "\n",
    "$H_0 : \\ \\mu_X - \\mu_Y = 0 \\quad \\text{vs} \\quad H_1 : \\ \\mu_X - \\mu_Y \\neq 0 $\n",
    "\n",
    "The test statistic is \n",
    "\n",
    "$W(X,Y) = \\left| \\frac{\\bar{X}_n-\\bar{Y}_m}{\\sqrt{\\frac{s_X^2}{n} + \\frac{s_Y^2}{m}}} \\right|$\n",
    "\n",
    "The p-value is given by \n",
    "\n",
    "$p(x,y) = \\mathbb{P} \\left(W(X,Y) > W(x,y)|H_0\\right),$\n",
    "\n",
    "where $x$ and $y$ are the observed values of $X$ and $Y$.\n",
    "\n",
    "From the given data, the correspondent p-value is $p \\simeq 0.0002$, which means at a high confidence level we can reject the null hypothesis."
   ]
  },
  {
   "cell_type": "code",
   "execution_count": 5,
   "metadata": {},
   "outputs": [
    {
     "name": "stdout",
     "output_type": "stream",
     "text": [
      "The Wald statistic is 3.70355354433\n",
      "The p-value is 0.000212600282258\n"
     ]
    }
   ],
   "source": [
    "X = np.array([0.225, 0.262, 0.217, 0.240, 0.230, 0.229, 0.235, 0.217])\n",
    "Y = np.array([0.209, 0.205, 0.196, 0.210, 0.202, 0.207, 0.224, 0.223, 0.220, 0.201])\n",
    "n = len(X)\n",
    "m = len(Y)\n",
    "\n",
    "W = np.abs((X.mean()-Y.mean())/np.sqrt(X.var(ddof=1)/n+Y.var(ddof=1)/m))\n",
    "print(\"The Wald statistic is\", W)\n",
    "\n",
    "from scipy.stats import norm\n",
    "p = 2*(1-norm.cdf(W)) \n",
    "print(\"The p-value is\", p)"
   ]
  },
  {
   "cell_type": "markdown",
   "metadata": {},
   "source": [
    "### (b)\n",
    "\n",
    "For permutation test, the null hypothesis is the two samples are from the same distribution and the correspondent p-value is given by\n",
    "\n",
    "$p(x,y) = \\mathbb{P}_0(s > s_\\text{obs}) \\simeq \\frac{1}{K} \\sum_{i=1}^K I (s_i > s_\\text{obs})$,\n",
    "\n",
    "where $s_\\text{obs} = S(x,y)$ and $s_i$ is calculated from a random permutation of $Z = (X,Y)$. Here we choose $S(X,Y) = |\\bar{X}_n - \\bar{Y}_m|$\n",
    "\n",
    "From the given data, the correspondent p-value is $p\\simeq 0.0007$, which means at a high confidence level we can reject the null hypothesis."
   ]
  },
  {
   "cell_type": "code",
   "execution_count": 58,
   "metadata": {},
   "outputs": [
    {
     "name": "stdout",
     "output_type": "stream",
     "text": [
      "the p-value of the permutation test is 0.00068\n"
     ]
    }
   ],
   "source": [
    "Z = np.append(X,Y)\n",
    "s_obs = np.abs(X.mean()-Y.mean())\n",
    "\n",
    "K = 10**5\n",
    "count = 0\n",
    "np.random.seed(42)\n",
    "for i in range(K):\n",
    "    Z_i = np.random.permutation(Z)\n",
    "    s_i = np.abs(Z_i[:n].mean()-Z_i[n:].mean())\n",
    "    if s_i > s_obs:\n",
    "        count += 1\n",
    "\n",
    "print(\"the p-value of the permutation test is\", count/K)"
   ]
  },
  {
   "cell_type": "code",
   "execution_count": 98,
   "metadata": {},
   "outputs": [
    {
     "data": {
      "image/png": "[encoded data removed]",
      "text/plain": [
       "<matplotlib.figure.Figure at 0x1a1b938ef0>"
      ]
     },
     "metadata": {},
     "output_type": "display_data"
    }
   ],
   "source": [
    "plt.hist(X, bins=4,normed=True,color='c', edgecolor='k', alpha=0.65,label=\"Twain essays\")\n",
    "plt.hist(Y, bins=3,normed=True,color='y', edgecolor='k', alpha=0.65,label=\"Snodgrass essays\")\n",
    "plt.legend()\n",
    "plt.show()"
   ]
  }
 ],
 "metadata": {
  "kernelspec": {
   "display_name": "Python 3",
   "language": "python",
   "name": "python3"
  },
  "language_info": {
   "codemirror_mode": {
    "name": "ipython",
    "version": 3
   },
   "file_extension": ".py",
   "mimetype": "text/x-python",
   "name": "python",
   "nbconvert_exporter": "python",
   "pygments_lexer": "ipython3",
   "version": "3.6.2"
  }
 },
 "nbformat": 4,
 "nbformat_minor": 2
}
