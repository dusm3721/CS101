{
 "cells": [
  {
   "cell_type": "markdown",
   "metadata": {},
   "source": [
    "# Problem 5 Playing with Data Summaries"
   ]
  },
  {
   "cell_type": "code",
   "execution_count": 125,
   "metadata": {
    "collapsed": true
   },
   "outputs": [],
   "source": [
    "import numpy as np\n",
    "import pandas as pd\n",
    "import matplotlib.pyplot as plt\n",
    "from scipy.stats import norm"
   ]
  },
  {
   "cell_type": "code",
   "execution_count": 28,
   "metadata": {},
   "outputs": [
    {
     "data": {
      "text/html": [
       "<div>\n",
       "<style>\n",
       "    .dataframe thead tr:only-child th {\n",
       "        text-align: right;\n",
       "    }\n",
       "\n",
       "    .dataframe thead th {\n",
       "        text-align: left;\n",
       "    }\n",
       "\n",
       "    .dataframe tbody tr th {\n",
       "        vertical-align: top;\n",
       "    }\n",
       "</style>\n",
       "<table border=\"1\" class=\"dataframe\">\n",
       "  <thead>\n",
       "    <tr style=\"text-align: right;\">\n",
       "      <th></th>\n",
       "      <th>birth weight</th>\n",
       "      <th>pregnancy lenght</th>\n",
       "      <th>first born</th>\n",
       "      <th>mother's age</th>\n",
       "      <th>mother's height</th>\n",
       "      <th>mother's prepregnancy weight</th>\n",
       "      <th>smoking status</th>\n",
       "    </tr>\n",
       "  </thead>\n",
       "  <tbody>\n",
       "    <tr>\n",
       "      <th>0</th>\n",
       "      <td>120.0</td>\n",
       "      <td>284.0</td>\n",
       "      <td>0.0</td>\n",
       "      <td>27.0</td>\n",
       "      <td>62.0</td>\n",
       "      <td>100.0</td>\n",
       "      <td>0.0</td>\n",
       "    </tr>\n",
       "    <tr>\n",
       "      <th>1</th>\n",
       "      <td>113.0</td>\n",
       "      <td>282.0</td>\n",
       "      <td>0.0</td>\n",
       "      <td>33.0</td>\n",
       "      <td>64.0</td>\n",
       "      <td>135.0</td>\n",
       "      <td>0.0</td>\n",
       "    </tr>\n",
       "    <tr>\n",
       "      <th>2</th>\n",
       "      <td>128.0</td>\n",
       "      <td>279.0</td>\n",
       "      <td>0.0</td>\n",
       "      <td>28.0</td>\n",
       "      <td>64.0</td>\n",
       "      <td>115.0</td>\n",
       "      <td>1.0</td>\n",
       "    </tr>\n",
       "    <tr>\n",
       "      <th>3</th>\n",
       "      <td>123.0</td>\n",
       "      <td>999.0</td>\n",
       "      <td>0.0</td>\n",
       "      <td>36.0</td>\n",
       "      <td>69.0</td>\n",
       "      <td>190.0</td>\n",
       "      <td>0.0</td>\n",
       "    </tr>\n",
       "    <tr>\n",
       "      <th>4</th>\n",
       "      <td>108.0</td>\n",
       "      <td>282.0</td>\n",
       "      <td>0.0</td>\n",
       "      <td>23.0</td>\n",
       "      <td>67.0</td>\n",
       "      <td>125.0</td>\n",
       "      <td>1.0</td>\n",
       "    </tr>\n",
       "  </tbody>\n",
       "</table>\n",
       "</div>"
      ],
      "text/plain": [
       "   birth weight  pregnancy lenght  first born  mother's age  mother's height  \\\n",
       "0         120.0             284.0         0.0          27.0             62.0   \n",
       "1         113.0             282.0         0.0          33.0             64.0   \n",
       "2         128.0             279.0         0.0          28.0             64.0   \n",
       "3         123.0             999.0         0.0          36.0             69.0   \n",
       "4         108.0             282.0         0.0          23.0             67.0   \n",
       "\n",
       "   mother's prepregnancy weight  smoking status  \n",
       "0                         100.0             0.0  \n",
       "1                         135.0             0.0  \n",
       "2                         115.0             1.0  \n",
       "3                         190.0             0.0  \n",
       "4                         125.0             1.0  "
      ]
     },
     "execution_count": 28,
     "metadata": {},
     "output_type": "execute_result"
    }
   ],
   "source": [
    "head=[\"birth weight\", \"pregnancy lenght\", \"first born\", \"mother's age\", \"mother's height\", \"mother's prepregnancy weight\", \"smoking status\"]\n",
    "data = pd.DataFrame(np.loadtxt(\"birth.txt\"), columns=head )\n",
    "data.head()"
   ]
  },
  {
   "cell_type": "markdown",
   "metadata": {},
   "source": [
    "### (a)\n",
    "\n",
    "We only keep the observations with known mother's height, which leaves n = 1214 entires. After trial and error, we find nbins = 20 is optimal for the shape of the histogram."
   ]
  },
  {
   "cell_type": "code",
   "execution_count": 71,
   "metadata": {},
   "outputs": [
    {
     "data": {
      "image/png": "[encoded data removed]",
      "text/plain": [
       "<matplotlib.figure.Figure at 0x115626a58>"
      ]
     },
     "metadata": {},
     "output_type": "display_data"
    }
   ],
   "source": [
    "heights = data[data[\"mother's height\"] != 99][\"mother's height\"]\n",
    "\n",
    "nbins = int(1 + np.log2(len(heights)))\n",
    "plt.hist(heights, bins=20, normed=1)\n",
    "plt.show()"
   ]
  },
  {
   "cell_type": "markdown",
   "metadata": {},
   "source": [
    "### (b)\n",
    "\n",
    "The center of the sample is not well-defined because we have even number of data points.\n",
    "\n",
    "The mean, median, standard deviation and IQR are given by:"
   ]
  },
  {
   "cell_type": "code",
   "execution_count": 90,
   "metadata": {},
   "outputs": [
    {
     "name": "stdout",
     "output_type": "stream",
     "text": [
      "mean: 64.0477759472817\n",
      "median: 64.0\n",
      "standard deviation: 2.5334089196921297\n",
      "IQR: 4.0\n"
     ]
    }
   ],
   "source": [
    "mean = heights.mean()\n",
    "median = heights.median()\n",
    "std = heights.std()\n",
    "IQR = np.percentile(heights, 75) - np.percentile(heights, 25)\n",
    "print(\"mean:\", mean)\n",
    "print(\"median:\", median)\n",
    "print(\"standard deviation:\", std)\n",
    "print(\"IQR:\", IQR)"
   ]
  },
  {
   "cell_type": "code",
   "execution_count": 138,
   "metadata": {},
   "outputs": [
    {
     "data": {
      "text/plain": [
       "6.418160754375643"
      ]
     },
     "execution_count": 138,
     "metadata": {},
     "output_type": "execute_result"
    }
   ],
   "source": [
    "heights.var()"
   ]
  },
  {
   "cell_type": "code",
   "execution_count": 139,
   "metadata": {},
   "outputs": [
    {
     "data": {
      "text/plain": [
       "2.5334089196921297"
      ]
     },
     "execution_count": 139,
     "metadata": {},
     "output_type": "execute_result"
    }
   ],
   "source": [
    "np.sqrt(heights.var())"
   ]
  },
  {
   "cell_type": "markdown",
   "metadata": {},
   "source": [
    "### (c)\n",
    "From the following plots, the sample (mohter's heights) is approximately normal (with a slightly fatter lower tail). With mean and variance estimated by the sample mean and sample variance: $\\mu = 64.05,\\ \\  \\sigma^2=6.42$.\n",
    "\n",
    "boxplot:"
   ]
  },
  {
   "cell_type": "code",
   "execution_count": 91,
   "metadata": {},
   "outputs": [
    {
     "data": {
      "image/png": "[encoded data removed]",
      "text/plain": [
       "<matplotlib.figure.Figure at 0x1075ae860>"
      ]
     },
     "metadata": {},
     "output_type": "display_data"
    }
   ],
   "source": [
    "plt.boxplot(heights)\n",
    "plt.show()"
   ]
  },
  {
   "cell_type": "markdown",
   "metadata": {},
   "source": [
    "emperical cdf and normal cdf:"
   ]
  },
  {
   "cell_type": "code",
   "execution_count": 133,
   "metadata": {},
   "outputs": [
    {
     "data": {
      "image/png": "[encoded data removed]",
      "text/plain": [
       "<matplotlib.figure.Figure at 0x1a174802b0>"
      ]
     },
     "metadata": {},
     "output_type": "display_data"
    }
   ],
   "source": [
    "def eCDF(data, x):\n",
    "    return sum(data < x) / len(data)\n",
    "\n",
    "x = np.arange(50,75,0.1)\n",
    "plt.plot(x, norm.cdf((x-mean)/std), c=\"grey\")\n",
    "plt.plot(x, [eCDF(heights, xi) for xi in x])\n",
    "plt.show()"
   ]
  },
  {
   "cell_type": "markdown",
   "metadata": {},
   "source": [
    "QQ plot:"
   ]
  },
  {
   "cell_type": "code",
   "execution_count": 135,
   "metadata": {},
   "outputs": [
    {
     "data": {
      "image/png": "[encoded data removed]",
      "text/plain": [
       "<matplotlib.figure.Figure at 0x11593c748>"
      ]
     },
     "metadata": {},
     "output_type": "display_data"
    }
   ],
   "source": [
    "n = len(heights)\n",
    "X = np.sort((heights-heights.mean())/heights.std())\n",
    "\n",
    "index = np.array([i for i in range(1,n+1)])\n",
    "Z = norm.ppf(index/(n+1))\n",
    "\n",
    "plt.plot([-4,4],[-4,4],c=\"grey\")\n",
    "plt.scatter(Z, X)\n",
    "plt.show()"
   ]
  },
  {
   "cell_type": "markdown",
   "metadata": {},
   "source": [
    "### (d)\n",
    "\n",
    "Based on the sample means and boxplots, there is no statistical significance in the difference of the heights between the two groups."
   ]
  },
  {
   "cell_type": "code",
   "execution_count": 191,
   "metadata": {},
   "outputs": [
    {
     "name": "stdout",
     "output_type": "stream",
     "text": [
      "smoking mother's heights mean:  64.09129511677283\n",
      "nonsmoking mother's heights mean:  64.01637107776261\n"
     ]
    }
   ],
   "source": [
    "smokingHeights = data[(data[\"mother's height\"] != 99) & (data[\"smoking status\"] == 1)][\"mother's height\"]\n",
    "nonsmokingHeights = data[(data[\"mother's height\"] != 99) & (data[\"smoking status\"] == 0)][\"mother's height\"]\n",
    "\n",
    "print(\"smoking mother's heights mean: \", smokingHeights.mean())\n",
    "print(\"nonsmoking mother's heights mean: \", nonsmokingHeights.mean())"
   ]
  },
  {
   "cell_type": "code",
   "execution_count": 179,
   "metadata": {},
   "outputs": [
    {
     "data": {
      "image/png": "[encoded data removed]",
      "text/plain": [
       "<matplotlib.figure.Figure at 0x1a1738dba8>"
      ]
     },
     "metadata": {},
     "output_type": "display_data"
    }
   ],
   "source": [
    "plt.boxplot([np.array(smokingHeights),nonsmokingHeights])\n",
    "plt.show()"
   ]
  }
 ],
 "metadata": {
  "kernelspec": {
   "display_name": "Python 3",
   "language": "python",
   "name": "python3"
  },
  "language_info": {
   "codemirror_mode": {
    "name": "ipython",
    "version": 3
   },
   "file_extension": ".py",
   "mimetype": "text/x-python",
   "name": "python",
   "nbconvert_exporter": "python",
   "pygments_lexer": "ipython3",
   "version": "3.6.2"
  }
 },
 "nbformat": 4,
 "nbformat_minor": 2
}
