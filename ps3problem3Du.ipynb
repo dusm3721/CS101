{
 "cells": [
  {
   "cell_type": "markdown",
   "metadata": {},
   "source": [
    "# Problem 3 Nonparametric Confidence Band For eCDF"
   ]
  },
  {
   "cell_type": "code",
   "execution_count": 2,
   "metadata": {
    "collapsed": true
   },
   "outputs": [],
   "source": [
    "import numpy as np\n",
    "import pandas as pd\n",
    "import matplotlib.pyplot as plt"
   ]
  },
  {
   "cell_type": "code",
   "execution_count": 19,
   "metadata": {},
   "outputs": [
    {
     "data": {
      "text/html": [
       "<div>\n",
       "<style>\n",
       "    .dataframe thead tr:only-child th {\n",
       "        text-align: right;\n",
       "    }\n",
       "\n",
       "    .dataframe thead th {\n",
       "        text-align: left;\n",
       "    }\n",
       "\n",
       "    .dataframe tbody tr th {\n",
       "        vertical-align: top;\n",
       "    }\n",
       "</style>\n",
       "<table border=\"1\" class=\"dataframe\">\n",
       "  <thead>\n",
       "    <tr style=\"text-align: right;\">\n",
       "      <th></th>\n",
       "      <th>latitude</th>\n",
       "      <th>longitude</th>\n",
       "      <th>depth</th>\n",
       "      <th>magnitude</th>\n",
       "      <th>number of reporting</th>\n",
       "    </tr>\n",
       "  </thead>\n",
       "  <tbody>\n",
       "    <tr>\n",
       "      <th>1</th>\n",
       "      <td>-20.42</td>\n",
       "      <td>181.62</td>\n",
       "      <td>562.0</td>\n",
       "      <td>4.8</td>\n",
       "      <td>41.0</td>\n",
       "    </tr>\n",
       "    <tr>\n",
       "      <th>2</th>\n",
       "      <td>-20.62</td>\n",
       "      <td>181.03</td>\n",
       "      <td>650.0</td>\n",
       "      <td>4.2</td>\n",
       "      <td>15.0</td>\n",
       "    </tr>\n",
       "    <tr>\n",
       "      <th>3</th>\n",
       "      <td>-26.00</td>\n",
       "      <td>184.10</td>\n",
       "      <td>42.0</td>\n",
       "      <td>5.4</td>\n",
       "      <td>43.0</td>\n",
       "    </tr>\n",
       "    <tr>\n",
       "      <th>4</th>\n",
       "      <td>-17.97</td>\n",
       "      <td>181.66</td>\n",
       "      <td>626.0</td>\n",
       "      <td>4.1</td>\n",
       "      <td>19.0</td>\n",
       "    </tr>\n",
       "    <tr>\n",
       "      <th>5</th>\n",
       "      <td>-20.42</td>\n",
       "      <td>181.96</td>\n",
       "      <td>649.0</td>\n",
       "      <td>4.0</td>\n",
       "      <td>11.0</td>\n",
       "    </tr>\n",
       "  </tbody>\n",
       "</table>\n",
       "</div>"
      ],
      "text/plain": [
       "   latitude  longitude  depth  magnitude  number of reporting\n",
       "1    -20.42     181.62  562.0        4.8                 41.0\n",
       "2    -20.62     181.03  650.0        4.2                 15.0\n",
       "3    -26.00     184.10   42.0        5.4                 43.0\n",
       "4    -17.97     181.66  626.0        4.1                 19.0\n",
       "5    -20.42     181.96  649.0        4.0                 11.0"
      ]
     },
     "execution_count": 19,
     "metadata": {},
     "output_type": "execute_result"
    }
   ],
   "source": [
    "raw_data = np.loadtxt(\"fiji.txt\")\n",
    "head = [\"latitude\", \"longitude\", \"depth\", \"magnitude\", \"number of reporting\"]\n",
    "data = pd.DataFrame(raw_data[:,1:], index=pd.Series(raw_data[:,0]).astype(\"int32\"), columns=head)\n",
    "data.head()"
   ]
  },
  {
   "cell_type": "markdown",
   "metadata": {},
   "source": [
    "### (a)\n",
    "$n = 1000$\n",
    "\n",
    "$\\hat F_n(x) = \\frac{1}{n}\\sum_{i=1}^{n} H(x-X_i)$\n",
    "\n",
    "$\\hat{\\text{se}}[\\hat F_n(x)]= \\sqrt{\\frac{\\hat F_n(x)\\left(1-\\hat F_n(x)\\right)}{n}}$\n",
    "\n",
    "The 95% confidence band is between $\\hat F_n(x)-1.96\\times \\hat{\\text{se}}[\\hat F_n(x)]$ and $\\hat F_n(x)+1.96\\times \\hat{\\text{se}}[\\hat F_n(x)]$"
   ]
  },
  {
   "cell_type": "code",
   "execution_count": 85,
   "metadata": {
    "collapsed": true
   },
   "outputs": [],
   "source": [
    "n = 1000\n",
    "\n",
    "def Fhat(x):\n",
    "    sample = data[\"magnitude\"]\n",
    "    return sum(sample < x) / len(sample)\n",
    "\n",
    "def se_Fhat(x):\n",
    "    return np.sqrt(Fhat(x) * (1-Fhat(x)) / n)"
   ]
  },
  {
   "cell_type": "code",
   "execution_count": 73,
   "metadata": {},
   "outputs": [
    {
     "data": {
      "image/png": "[encoded data removed]",
      "text/plain": [
       "<matplotlib.figure.Figure at 0x10f85ac50>"
      ]
     },
     "metadata": {},
     "output_type": "display_data"
    }
   ],
   "source": [
    "x = np.arange(3,7,0.01)\n",
    "plt.plot(x, [Fhat(xi) for xi in x])\n",
    "plt.fill_between(x, [Fhat(xi) - 1.96 * se_Fhat(xi) for xi in x], [Fhat(xi) + 1.96 * se_Fhat(xi) for xi in x], facecolor=\"grey\")\n",
    "plt.show()"
   ]
  },
  {
   "cell_type": "markdown",
   "metadata": {},
   "source": [
    "### (b)"
   ]
  },
  {
   "cell_type": "code",
   "execution_count": 104,
   "metadata": {
    "collapsed": true
   },
   "outputs": [],
   "source": [
    "def Fhat_smooth(x):\n",
    "    x1, x2 = int(x*10) / 10, int(x*10+1) / 10\n",
    "    return Fhat(x1) + (Fhat(x2) - Fhat(x1)) / (x2 - x1) * (x - x1)\n",
    "\n",
    "def se_Fhat_smooth(x):\n",
    "    return np.sqrt(Fhat_smooth(x) * (1-Fhat_smooth(x)) / n)"
   ]
  },
  {
   "cell_type": "code",
   "execution_count": 105,
   "metadata": {},
   "outputs": [
    {
     "data": {
      "image/png": "[encoded data removed]",
      "text/plain": [
       "<matplotlib.figure.Figure at 0x10f1d4a58>"
      ]
     },
     "metadata": {},
     "output_type": "display_data"
    }
   ],
   "source": [
    "x = np.arange(3,7,0.01)\n",
    "plt.plot(x, [Fhat_smooth(xi) for xi in x])\n",
    "plt.fill_between(x, [Fhat_smooth(xi) - 1.96 * se_Fhat_smooth(xi) for xi in x], [Fhat_smooth(xi) + 1.96 * se_Fhat_smooth(xi) for xi in x], facecolor=\"grey\")\n",
    "plt.show()"
   ]
  }
 ],
 "metadata": {
  "kernelspec": {
   "display_name": "Python 3",
   "language": "python",
   "name": "python3"
  },
  "language_info": {
   "codemirror_mode": {
    "name": "ipython",
    "version": 3
   },
   "file_extension": ".py",
   "mimetype": "text/x-python",
   "name": "python",
   "nbconvert_exporter": "python",
   "pygments_lexer": "ipython3",
   "version": "3.6.2"
  }
 },
 "nbformat": 4,
 "nbformat_minor": 2
}
